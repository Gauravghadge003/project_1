{
 "cells": [
  {
   "cell_type": "markdown",
   "id": "c6a11c37",
   "metadata": {},
   "source": [
    "pwd to show directory"
   ]
  },
  {
   "cell_type": "code",
   "execution_count": 5,
   "id": "1f5e2b28",
   "metadata": {},
   "outputs": [
    {
     "data": {
      "text/plain": [
       "'C:\\\\Users\\\\Gaurav Ghagde\\\\Desktop\\\\learnbay'"
      ]
     },
     "execution_count": 5,
     "metadata": {},
     "output_type": "execute_result"
    }
   ],
   "source": [
    "pwd"
   ]
  },
  {
   "cell_type": "code",
   "execution_count": null,
   "id": "19414f71",
   "metadata": {},
   "outputs": [],
   "source": [
    "print(\"gaurav\")"
   ]
  },
  {
   "cell_type": "markdown",
   "id": "391902ed",
   "metadata": {},
   "source": [
    "# Gaurav\n",
    "## Gaurav\n",
    "### Gaurav\n",
    "#### Gaurav\n",
    "##### Gaurav "
   ]
  },
  {
   "cell_type": "markdown",
   "id": "65f66935",
   "metadata": {},
   "source": [
    "* point\n",
    "* point\n",
    "* point\n",
    "\n",
    "1. point\n",
    "2. point"
   ]
  },
  {
   "cell_type": "code",
   "execution_count": null,
   "id": "be6491a2",
   "metadata": {},
   "outputs": [],
   "source": []
  }
 ],
 "metadata": {
  "kernelspec": {
   "display_name": "Python 3",
   "language": "python",
   "name": "python3"
  },
  "language_info": {
   "codemirror_mode": {
    "name": "ipython",
    "version": 3
   },
   "file_extension": ".py",
   "mimetype": "text/x-python",
   "name": "python",
   "nbconvert_exporter": "python",
   "pygments_lexer": "ipython3",
   "version": "3.8.8"
  }
 },
 "nbformat": 4,
 "nbformat_minor": 5
}
